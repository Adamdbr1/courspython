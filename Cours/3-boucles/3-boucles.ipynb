{
 "cells": [
  {
   "cell_type": "markdown",
   "metadata": {},
   "source": [
    "<div>\n",
    "<div style='float:left; margin-right:40pt; width:6cm'><img src='img/UPEM-IGM-V1_300dpi.png'></div>\n",
    "<div style='float:right; font-size:large; text-align:right'><strong>Algorithmique et programmation 1</strong><br>\n",
    "L1 Mathématiques - L1 Informatique<br>\n",
    "Semestre 1\n",
    "</div>\n",
    "</div>"
   ]
  },
  {
   "cell_type": "markdown",
   "metadata": {},
   "source": [
    "# Chapitre 3 : Instructions Répétitives"
   ]
  },
  {
   "cell_type": "markdown",
   "metadata": {},
   "source": [
    "Dans ce chapitre vous allez apprendre à :\n",
    "* répéter une tache un nombre fini de fois ou tant qu'une condition reste vraie ;\n",
    "* expliquer les différents types de boucle en python ;\n",
    "* reconnaître la nécessité de créer une ou plusieurs itérations dans un programme ;\n",
    "* choisir le type de boucle le plus adapté à la situation ;\n",
    "* décrire l'exécution d'un programme simple contenant une ou plusieurs boucle(s) ;\n",
    "* être capable d'écrire un code comprenant une ou des itérations."
   ]
  },
  {
   "cell_type": "markdown",
   "metadata": {},
   "source": [
    "## I Introduction"
   ]
  },
  {
   "cell_type": "markdown",
   "metadata": {},
   "source": [
    "En programmation, on est souvent amené à répéter plusieurs fois une instruction. \n",
    "Incontournables à tout langage de programmation, les **boucles** vont nous aider à réaliser cette tâche de manière\n",
    "compacte et efficace.\n",
    "\n",
    "Imaginez par exemple que vous souhaitiez afficher :\n",
    "```\n",
    "   1 kilomètre(s) à pied ça use, ça use ...\n",
    "   2 kilomètre(s) à pied ça use, ça use ...\n",
    "   3 kilomètre(s) à pied ça use, ça use ...\n",
    "   etc.\n",
    "```   \n",
    "Dans l'état actuel de vos connaissances, il faudrait taper quelque chose du style :"
   ]
  },
  {
   "cell_type": "code",
   "execution_count": null,
   "metadata": {},
   "outputs": [],
   "source": [
    "print(1, 'kilomètre(s) à pied ça use, ça use ...')\n",
    "print(2, 'kilomètre(s) à pied ça use, ça use ...')\n",
    "print(3, 'kilomètre(s) à pied ça use, ça use ...')\n",
    "print(4, 'kilomètre(s) à pied ça use, ça use ...')\n",
    "print(5, 'kilomètre(s) à pied ça use, ça use ...')\n",
    "print(6, 'kilomètre(s) à pied ça use, ça use ...')"
   ]
  },
  {
   "cell_type": "markdown",
   "metadata": {},
   "source": [
    "Mais si on voulait compter jusqu'à 100 ? 1000 ? et plus encore... ?\n",
    "\n",
    "Nous allons voir comment réaliser simplement cette tache grâce aux boucles. \n",
    "Python propose pour cela deux instructions particulières pour construire des boucles :\n",
    "- l'instruction **for ... in ...**, très puissante, qui sera abordée dans ce chapitre et beaucoup plus en détail au chapitre concernant les itérables ;\n",
    "- l'instruction **while** abordée en deuxième partie du chapitre."
   ]
  },
  {
   "cell_type": "markdown",
   "metadata": {},
   "source": [
    "## II Répétition d'une tâche un certain nombre de fois : `for ... in range(...):`\n",
    "\n",
    "La syntaxe `for ... in range(...)` est faite pour répéter une tâche un nombre de fois, fini et connu à l'avance. \n",
    "\n",
    "**Syntaxe :**\n",
    "\n",
    "```python\n",
    "# début\n",
    "N = ...\n",
    "for <var> in range(N):\n",
    "    # bloc d'instructions\n",
    "    # (corps de la boucle)\n",
    "# suite\n",
    "```\n",
    "\n",
    "où :\n",
    "- `N` est une variable de type `int`, qui doit être initialisée avant le début de la boucle ;\n",
    "- `var` est le nom d'une variable que vous choisissez : elle est initialisée toute seule à `0`;\n",
    "- `range(N)` est une fonction primitive du langage Python permettant de simuler l'intervalle du type `[0;N - 1]` : cela signifie que `var` prendra successivement toutes les valeurs entières de `0` à `N - 1`;\n",
    "\n",
    "**Vocabulaire :**\n",
    "\n",
    "* Le bloc d'instructions est appelé **corps de la boucle**.\n",
    "* Chaque exécution du corps de la boucle est appelée **itération**.\n",
    "* La variable nommée `var` est appelée **variable d'itération**.\n",
    "\n",
    "**Remarque :**\n",
    "À chaque nouvelle répétition du corps de la boucle, la variable `var` est incrémentée (c'est-à-dire que sa valeur est augmentée de `1`). Cela permet de répeter une tâche légèrement modifiée une fois sur l'autre (voir exemple 2). \n",
    "\n",
    "<img src='img/warning.png' width='50px' style='display:inline'> Il n'est pas possible de modifier `var` dans le corps de la boucle."
   ]
  },
  {
   "cell_type": "markdown",
   "metadata": {},
   "source": [
    "Dans la suite, nous allons voir deux exemples d'utilisation de la syntaxe `for ... in range(...)` correspondant à deux cas d'usage :\n",
    "* le corps de la boucle n'utilise pas la variable d'itération.\n",
    "* le corps de la boucle utilise la variable d'itération."
   ]
  },
  {
   "cell_type": "markdown",
   "metadata": {},
   "source": [
    "### Exemple 1 : Boucle dont le corps est indépendant de la variable d'itération\n",
    "\n",
    "Si le corps de la boucle ne dépend pas de la variable d'itération, il s'agit d'une répétition stricte du corps de la boucle !\n",
    "\n",
    "Par exemple, le code suivant imprimera 5 fois Bonjour."
   ]
  },
  {
   "cell_type": "code",
   "execution_count": null,
   "metadata": {},
   "outputs": [],
   "source": [
    "N = 15\n",
    "for nb in range(N):\n",
    "    print(\"Bonjour les prépas !\")"
   ]
  },
  {
   "cell_type": "markdown",
   "metadata": {},
   "source": [
    "#### Exercice 1 :\n",
    "\n",
    "Dans le programme suivant, quelle est la variable d'itération ? Qu'elle est sa valeur à la fin de la boucle ?\n",
    "``` python\n",
    "fin = 10\n",
    "for cmpt in range(fin):\n",
    "    print(\"Vive Python 3 !\")\n",
    "```"
   ]
  },
  {
   "cell_type": "markdown",
   "metadata": {},
   "source": [
    "### Exemple 2 : Boucle dont le corps dépend de la variable d'itération\n",
    "\n",
    "Si le corps de la boucle dépend de la variable d'itération, la répétition porte sur le nombre de fois où le corps est exécuté. Il faut donc bien réfléchir pour identifier ce qui est répété et comment.\n",
    "\n",
    "Voici tout d'abord comment la variable d'itération évolue au cours de la boucle :"
   ]
  },
  {
   "cell_type": "code",
   "execution_count": null,
   "metadata": {},
   "outputs": [],
   "source": [
    "fin = 10\n",
    "for nb in range(fin):\n",
    "    print(\"nb = \", nb)\n",
    "print(\"A la fin, nb = \", nb)"
   ]
  },
  {
   "cell_type": "code",
   "execution_count": null,
   "metadata": {},
   "outputs": [],
   "source": [
    "i = 0\n",
    "while i < 10:\n",
    "    print(\"nb = \" + str(i))\n",
    "    i += 1\n",
    "print(\"A la fin, nb = \", i)"
   ]
  },
  {
   "cell_type": "markdown",
   "metadata": {},
   "source": [
    "On peut alors facilement écrire un programme qui affiche :\n",
    "```\n",
    "   1 kilomètre(s) à pied ça use, ça use ...\n",
    "   2 kilomètre(s) à pied ça use, ça use ...\n",
    "   3 kilomètre(s) à pied ça use, ça use ...\n",
    "   etc.\n",
    "```   \n",
    "\n",
    "Pour cela, on a besoin de savoir identifier où se trouve la répétition : il s'agit ici de l'affichage d'une ligne `... kilomètre(s) à pied ça use, ça use ...`.\n",
    "\n",
    "Plus précisement, la `k`-ième ligne commencera toujours par `k kilomètre(s) ...`.\n",
    "\n",
    "Nous pouvons donc écrire le programme suivant :"
   ]
  },
  {
   "cell_type": "code",
   "execution_count": null,
   "metadata": {},
   "outputs": [],
   "source": [
    "N = 6\n",
    "for nb in range(N):\n",
    "    if nb == 0:\n",
    "        print(nb + 1, 'kilomètre à pied ça use, ça use ...')\n",
    "    else:\n",
    "        print(nb + 1, 'kilomètres à pied ça use, ça use ...')"
   ]
  },
  {
   "cell_type": "markdown",
   "metadata": {},
   "source": [
    "Il est désormais facile de compter jusqu'à `100`, `1000` ou plus."
   ]
  },
  {
   "cell_type": "markdown",
   "metadata": {},
   "source": [
    "#### Exercice 2 : \n",
    "\n",
    "Dans le programme suivant, quelle est la variable d'itération ? Quelle est sa valeur à la fin de la boucle ?\n",
    "Qu'affiche-t-il ?\n",
    "``` python\n",
    "N = 7\n",
    "for nb_etoile in range(N):\n",
    "    print(\"*\" * nb_etoile)\n",
    "```"
   ]
  },
  {
   "cell_type": "markdown",
   "metadata": {},
   "source": [
    "### Exemple 3 : Découvrons le module `Turtle`\n",
    "\n",
    "Le module Turtle est un module Python inspiré de la *\"programmation Logo\"*.\n",
    "Des fonctions définies dans ce module permettent de déplacer une tortue sur l’écran et d'afficher ou non sa trace à l'écran.\n",
    "\n",
    "Par exemple, on trouve les fonctions : \n",
    "* `forward(dist)` : Avance la tortue d’une distance de `dist` pixels\n",
    "* `backward(distance)` : Recule d’une distance donnée\n",
    "* `left(d)` : Pivote la tortue vers la gauche d'un angle de `d` degrés\n",
    "* `right(d)` : Pivote la tortue vers la droite d'un angle de `d` degrés\n",
    "* `up()` : Relève le crayon ; cela permet d'avancer sans dessiner\n",
    "* `down()` : Abaisse le crayon, pour recommencer à dessiner\n",
    "* `goto(x, y)` : Envoie la tortue au point de coordonnées `(x, y)` en ligne droite\n",
    "\n",
    "Ce module permet de faire de très jolis dessins. Par exemple, on peut tracer des polygones réguliers facilement."
   ]
  },
  {
   "cell_type": "code",
   "execution_count": null,
   "metadata": {},
   "outputs": [],
   "source": [
    "\"\"\"\n",
    "Tracé de polygones réguliers.\n",
    "\"\"\"\n",
    "# On importe les fonctions du module turtle\n",
    "from turtle import *\n",
    "\n",
    "# Initialisation des paramètres\n",
    "nbCotes = 4\n",
    "lgCote = 250\n",
    "angle = 90\n",
    "nb_carre = 20\n",
    "\n",
    "# Tracé\n",
    "for cmpt in range(nb_carre):\n",
    "    for compteur in range(nbCotes):\n",
    "        forward(lgCote) # Tracer un côté\n",
    "        left(angle) # Tourner à gauche\n",
    "    print(\"compteur = \", compteur, \"cmpt = \", cmpt)\n",
    "    left(360 / nb_carre)\n",
    "\n",
    "exitonclick() # Sortie par click de souris "
   ]
  },
  {
   "cell_type": "markdown",
   "metadata": {},
   "source": [
    "### Vérifier vos connaissances\n",
    "\n",
    "A ce stade, vous devriez être capable :\n",
    "* de comprendre la notion de boucle ;\n",
    "* d'expliquer le fonctionnement d'une boucle `for ... in range(...)` ;\n",
    "* d'identifier la variable d'itération et de comprendre comment elle évolue au cours d'une boucle `for ... in range(...)` ;\n",
    "* de détecter la nécessité d'introduire une boucle `for ... in range(...)` dans un programme ;\n",
    "* d'écrire correctement une boucle `for ... in range(...)`."
   ]
  },
  {
   "cell_type": "markdown",
   "metadata": {},
   "source": [
    "#### Exercice 3 : les tables de multiplications\n",
    "\n",
    "Écrire un programme de trois lignes qui affiche la table de multiplication par `7` :\n",
    "```Python\n",
    "1 * 7 = 7\n",
    "2 * 7 = 14\n",
    "...\n",
    "10 * 7 = 70\n",
    "```\n",
    "**Attention :** La ligne `0 * 7 = 0` ne doit pas apparaitre, et vous ne devez pas utiliser de `if`!"
   ]
  },
  {
   "cell_type": "code",
   "execution_count": null,
   "metadata": {},
   "outputs": [],
   "source": []
  },
  {
   "cell_type": "markdown",
   "metadata": {},
   "source": [
    "#### Exercice 4\n",
    "\n",
    "Écrivez un programme qui lit un entier positif `n` donné par l'utilisateur, puis `n`\n",
    "nombres entiers (toujours entrés par l'utilisateur) et compte et affiche en fin de programme combien parmi ces valeurs sont strictement positives, strictement négatives, nulles."
   ]
  },
  {
   "cell_type": "code",
   "execution_count": null,
   "metadata": {},
   "outputs": [],
   "source": []
  },
  {
   "cell_type": "markdown",
   "metadata": {},
   "source": [
    "#### Exercice 5\n",
    "\n",
    "1. Écrivez un programme qui demande à l'utilisateur un entier et\n",
    "   affiche la factorielle de ce nombre.\n",
    "2. Modifiez votre programme pour afficher toutes les factorielles\n",
    "   des nombres inférieurs au nombre saisi.\n",
    "\n",
    "*Remarque : Pour la question 2, il suffit de rajouter une ligne de code.*"
   ]
  },
  {
   "cell_type": "code",
   "execution_count": null,
   "metadata": {},
   "outputs": [],
   "source": []
  },
  {
   "cell_type": "markdown",
   "metadata": {},
   "source": [
    "## III Répétition d'une tâche tant qu'une condition est vérifiée : `while ...:`\n",
    "\n",
    "On peut répéter un bloc d'instructions un nombre de fois inconnu avant le début de la répétition grâce à une\n",
    "boucle ``tant que``.\n",
    "\n",
    "**Principe de base :**\n",
    "\n",
    "- **Si** une certaine condition est vraie,\n",
    "  on va exécuter un certain bloc d'instructions ;\n",
    "- **Sinon**, on va passer directement à la suite du programme ;\n",
    "- Après chaque exécution du bloc, on réévalue la condition.\n",
    "\n",
    "<img src='img/while1.png' width='30%'>\n",
    "\n",
    "**Syntaxe :**\n",
    "\n",
    "```python\n",
    "# début\n",
    "while <condition>:\n",
    "    # bloc d'instructions\n",
    "    # (corps de la boucle)\n",
    "# suite\n",
    "```\n",
    "\n",
    "où `condition` est une **expression booléenne**.\n",
    "\n",
    "**Vocabulaire :**\n",
    "\n",
    "- Le bloc d'instructions est appelé **corps de la boucle**.\n",
    "- Chaque exécution du corps de la boucle est appelée **itération**.\n",
    "\n",
    "**Fonctionnement détaillé :**\n",
    "\n",
    "La `condition` est une expression booléenne dépendant de variables définies dans la partie `début`.\n",
    "Le corps de la boucle est alors exécuté une première fois uniquement si `condition` est évaluée à `True`.\n",
    "Au cours de chaque exécution du corps de la boucle, les variables dont dépend `condition` peuvent (doivent !) avoir évolué. Après chaque exécution du corps, on réévalue donc `condition` :\n",
    "- Si `condition` vaut `False`, le corps de la boucle n'est pas exécuté ; à la place, on exécute la suite du code.\n",
    "- Si `condition`vaut `True`, le corps de la boucle est (de nouveau) exécuté.\n",
    "\n",
    "**Remarque :** Il peut n'y avoir aucune itération, ou un nombre infini en fonction de la condition !"
   ]
  },
  {
   "cell_type": "markdown",
   "metadata": {},
   "source": [
    "La boucle `while` est très générale. Elle permet notamment de reproduire le comportement d'une boucle `for ... in range(...)`. Néanmoins\n",
    "* la boucle `for ... in range(...)` se trouve être plus simple à manipuler lorsque l'on peut l'utiliser (voir Exemple 1 ci-dessous)\n",
    "* la boucle `for ... in range(...)` ne permet pas de réaliser toutes les boucles que l'on pourrait vouloir faire (voir Exemple 2 ci-dessous). Notamment, une boucle `while` est nécessaire si l'on ne connait pas à l'avance le nombre d'itérations à effectuer."
   ]
  },
  {
   "cell_type": "markdown",
   "metadata": {},
   "source": [
    "### Exemple 1 : une boucle `while` permet de simuler une boucle `for ... in range(...)`"
   ]
  },
  {
   "cell_type": "code",
   "execution_count": null,
   "metadata": {},
   "outputs": [],
   "source": [
    "nombre = int(input(\"Entrez un nombre : \"))\n",
    "\n",
    "if nombre > 0:\n",
    "    print(1, 'kilomètre à pied ça use, ça use ...')\n",
    "cmpt = 2  # Initialiser le compteur\n",
    "while cmpt <= nombre:\n",
    "    print(cmpt, 'kilomètres à pied ça use, ça use ...')\n",
    "    cmpt = cmpt + 1  # Ne pas oublier"
   ]
  },
  {
   "cell_type": "markdown",
   "metadata": {},
   "source": [
    "Dans cet exemple, la variable d'itération est `cmpt`. Le corps de la boucle contient deux instructions : le `print` et l'incrémentation de `cmpt`.\n",
    "\n",
    "<img src='img/warning.png' width='50px' style='display:inline'>\n",
    "La difficulté de ce type de boucle est de ne pas oublier l'incrémentation de la variable d'itération. C'est une erreur commune faite par beaucoup d'étudiants, qui ne se rencontre pas si l'on utilise la syntaxe `for ... in range(...)` qui reste plus simple dans ce genre de cas !"
   ]
  },
  {
   "cell_type": "markdown",
   "metadata": {},
   "source": [
    "### Exemple 2 : Saisie controllée\n",
    "\n",
    "Lorsque l'on demande à l'utilisateur une donnée, on se doit de vérifier qu'il saisit une donnée valide avant même d'effectuer le moindre traitement sur cette donnée.\n",
    "\n",
    "Une saisie sera dite **saisie contrôlée** lorsque le programmeur demande à l'utilisateur de resaisir sa donnée tant que celle-ci n'est pas valide. Il s'agit donc d'une boucle `while`, dont la condition traduit *\"la donnée n'est pas valide\"*.\n",
    "\n",
    "Dans le cas où l'on veut, par exemple, un entier `nb` positif, la condition de la boucle est : `nb < 0`.\n",
    "D'où le programme suivant :"
   ]
  },
  {
   "cell_type": "code",
   "execution_count": null,
   "metadata": {},
   "outputs": [],
   "source": [
    "# On veut saisir faire saisir à l'utilisateur en entier positif (ou nul)\n",
    "nb = int(input('Donnez moi un entier : '))\n",
    "while nb < 0:\n",
    "    print('Erreur de saisie.')\n",
    "    nb = int(input('Donnez moi un entier : '))"
   ]
  },
  {
   "cell_type": "markdown",
   "metadata": {},
   "source": [
    "**Remarque :** Si l'utilisateur ne rentre pas un entier, la conversion en entier va provoquer une erreur. Notre saisie contrôlée n'est donc pas parfaite... Elle suppose que l'utilisateur donnera tout de même un entier..."
   ]
  },
  {
   "cell_type": "markdown",
   "metadata": {},
   "source": [
    "#### Exercice 6 : \n",
    "\n",
    "Au cours précédent, nous avons écrit un programme permettant de calculer la moyenne d'un cours contenant deux contrôles continus et un examen.\n",
    "\n",
    "Ajoutez des saisies contrôlées lors de la saisie des trois notes pour rendre le programme un peu plus robuste."
   ]
  },
  {
   "cell_type": "code",
   "execution_count": null,
   "metadata": {},
   "outputs": [],
   "source": [
    "# La note finale est le maximum de la note d'examen\n",
    "# et de la moyenne entre examen et moyenne de contrôle\n",
    "# continu\n",
    "\n",
    "note_cc1 = float(input('Note du premier contrôle : '))\n",
    "note_cc2 = float(input('Note du second contrôle : '))\n",
    "note_exam = float(input(\"Note de l'examen : \"))\n",
    "\n",
    "if note_cc1 < 0 or note_cc2 < 0 or note_exam < 0:\n",
    "    print('Erreur de saisie (note négative).')\n",
    "else:\n",
    "    moyenne_cc = (note_cc1 + note_cc2) / 2\n",
    "\n",
    "    if moyenne_cc < note_exam:\n",
    "        note_finale = note_exam\n",
    "        print('Note de contrôle non prise en compte.')\n",
    "    else:\n",
    "        note_finale = (moyenne_cc + note_exam) / 2\n",
    "        print('Note de contrôle prise en compte.')\n",
    "    print('Note finale :', note_finale)\n",
    "\n",
    "    if note_finale < 10:\n",
    "        print('Encore un petit effort !')\n",
    "    elif note_finale < 12:\n",
    "        print('Ça passe !')\n",
    "    elif note_finale < 14:\n",
    "        print('Pas mal !')\n",
    "    else:  # Quelles valeurs possibles ?\n",
    "        print('Bravo !')"
   ]
  },
  {
   "cell_type": "markdown",
   "metadata": {},
   "source": [
    "### Exemple 3 : la racine carrée entière\n",
    "\n",
    "Soit `N` un entier.\n",
    "On souhaite trouver le plus grand entier `n` tel que `n * n <= N`, en incrémentant progressivement la valeur de `n`. "
   ]
  },
  {
   "cell_type": "code",
   "execution_count": null,
   "metadata": {},
   "outputs": [],
   "source": [
    "N = 142\n",
    "n = 0\n",
    "while n*n <= N:\n",
    "    n += 1\n",
    "print(n - 1)"
   ]
  },
  {
   "cell_type": "code",
   "execution_count": null,
   "metadata": {},
   "outputs": [],
   "source": [
    "N = 142\n",
    "int(N ** (1/2))"
   ]
  },
  {
   "cell_type": "code",
   "execution_count": null,
   "metadata": {},
   "outputs": [],
   "source": [
    "print(11 + 21/23)\n",
    "print(11 + 21/22)"
   ]
  },
  {
   "cell_type": "markdown",
   "metadata": {},
   "source": [
    "<img src='img/Ampoule.png' width='50px' style='display:inline'>\n",
    "*A quel moment moment la condition n'est-elle plus vérifiée ? Cela explique pourquoi il faut afficher `n - 1`et non `n`.*"
   ]
  },
  {
   "cell_type": "markdown",
   "metadata": {},
   "source": [
    "### Vérifier vos connaissances :\n",
    "\n",
    "A ce stade, vous devriez être capable :\n",
    "* de comprendre la notion de boucle `while` ;\n",
    "* de décrire le fonctionnement d'une boucle `while` ;\n",
    "* d'identifier la variable d'itération et de comprendre comment elle évolue au cours d'une boucle `while` ;\n",
    "* de détecter la nécessité d'introduire une boucle `while` dans un programme ;\n",
    "* d'écrire correctement une boucle `while`."
   ]
  },
  {
   "cell_type": "markdown",
   "metadata": {},
   "source": [
    "#### Exercice 7 : De plus en plus grand\n",
    "\n",
    "Écrivez un programme qui laisse l'utilisateur saisir autant de nombres positifs\n",
    "qu'il veut, tant que chaque nombre est strictement supérieur à celui d'avant.\n",
    "Si un nombre saisi ne vérifie pas la règle, le programme s'arrête et indique\n",
    "combien de nombres comporte la suite strictement croissante saisie par\n",
    "l'utilisateur."
   ]
  },
  {
   "cell_type": "markdown",
   "metadata": {},
   "source": [
    "#### Exercice 8 : Moyenne de notes\n",
    "\n",
    "1. Écrivez un programme qui permet à l'utilisateur de saisir autant de nombres\n",
    "   entiers qu'il veut et calcule et affiche la moyenne de ces nombres. Quand il a terminé\n",
    "   l'utilisateur écrit `stop` au lieu d'un nombre.\n",
    "   \n",
    "   **Remarque :** Exceptionnellement, on ne fera pas de saisie contrôlée dans cet exercice.\n",
    "\n",
    "\n",
    "1. Modifiez le programme pour qu'il redemande chaque nombre saisi s'il n'est\n",
    "   pas compris entre 0 et 20."
   ]
  },
  {
   "cell_type": "markdown",
   "metadata": {},
   "source": [
    "## IV Comparaison entre les boucles `for ... in range(...)` et boucles `while`"
   ]
  },
  {
   "cell_type": "markdown",
   "metadata": {},
   "source": [
    "Comme on vient de le voir, il existe deux façons de procéder pour écrire des boucles : `for ... in range(...)` et `while`. Il est important de choisir judicieusement quel type de boucle utiliser en fonction du problème à résoudre.\n",
    "\n",
    "La boucle `for ... in range(...)` se trouve être plus simple à manipuler que la boucle `while`, mais elle ne permet pas de réaliser toutes les boucles que l'on pourrait vouloir faire. Toujours manipuler une boucle `while` pourrait suffire, mais cela donnerait des programmes très lourds à lire pour l'humain.\n",
    "\n",
    "En conséquence, la boucle `for ... in range(...)` est le meilleur choix quand on connait à l'avance le nombre de fois que l'on veut effectuer l'itération. A l'opposé, la boucle `while` doit être utilisée lorsque l'on ne connait pas le nombre d'itérations à effectuer à l'avance."
   ]
  },
  {
   "cell_type": "markdown",
   "metadata": {},
   "source": [
    "<p align=\"center\">\n",
    "       <img src='img/Comparaison_Syntaxe.png' width='700px'>\n",
    "</p>"
   ]
  },
  {
   "cell_type": "markdown",
   "metadata": {},
   "source": [
    "### Vérifier vos connaissances :\n",
    "\n",
    "A ce stade, vous devriez être capable :\n",
    "* de citer les deux types de boucles en Python ;\n",
    "* de citer les avantages d'une boucle `for ... in range(...)` sur une boucle `while` ;\n",
    "* de décider si vous allez implémenter une boucle `for ... in range(...)` ou une boucle `while` ;\n",
    "* d'argumenter vos choix de boucles dans vos programmes."
   ]
  },
  {
   "cell_type": "markdown",
   "metadata": {},
   "source": [
    "#### Exercice 9 :\n",
    "\n",
    "On considère le programme suivant :\n",
    "```Python\n",
    "actuel = 1\n",
    "avant = 1\n",
    "while actuel < 1000:\n",
    "    print(actuel)\n",
    "    actuel, avant = actuel + avant, actuel\n",
    "```\n",
    "1. Que réalise le programme suivant ?\n",
    "2. Ce programme contient une boucle `while`. Est-ce un choix judicieux ? Si non, traduisez-le en un programme contenant une boucle `for`."
   ]
  },
  {
   "cell_type": "code",
   "execution_count": null,
   "metadata": {},
   "outputs": [],
   "source": [
    "for cmpt in range(21):\n",
    "    if cmpt % 2 == 0:\n",
    "        print(cmpt)"
   ]
  },
  {
   "cell_type": "markdown",
   "metadata": {},
   "source": [
    "#### Exercice 10 :\n",
    "\n",
    "Indiquez si vous utiliseriez plutôt une boucle `while`ou plutôt une boucle `for ... in range(...)` pour :\n",
    "1. écrire un programme calculant les `100`premiers termes de la suite définie par $U_0 = 1$ et $U_{n + 1} = \\dfrac{U_n}{3 U_n + 2}$.\n",
    "2. écrire un programme demandant à l'utilisateur un mot de `5` lettres.\n",
    "3. écrire un programme dessinant la forme suivante :\n",
    "```\n",
    "    *      *\n",
    "     *    *\n",
    "      *  *\n",
    "       **\n",
    "```\n",
    "4. écrire un programme demandant à l'utilisateur un entier et déterminant combien de fois de suite cet entier est divisible par 2."
   ]
  },
  {
   "cell_type": "code",
   "execution_count": null,
   "metadata": {},
   "outputs": [],
   "source": []
  },
  {
   "cell_type": "markdown",
   "metadata": {},
   "source": [
    "## V Boucles imbriquées\n",
    "\n",
    "Améliorons l'exercice 6. Nous avons des saisies de l'utilisateur qui ne sont pas contrôlées. **Ce n'est pas bien !!!** Nous avons donc besoin de faire une boucle à l'intérieur d'une autre boucle, ce qui est heureusement possible."
   ]
  },
  {
   "cell_type": "markdown",
   "metadata": {},
   "source": [
    "<p align=\"center\">\n",
    "       <img src='img/while2.png' width='40%'>\n",
    "</p>\n",
    "<center> Double boucle `while` imbriquée</center>"
   ]
  },
  {
   "cell_type": "markdown",
   "metadata": {},
   "source": [
    "**Syntaxe d'une double boucle `while` :**\n",
    "```python\n",
    "# début\n",
    "while <condition 1>:\n",
    "    # début corps 1\n",
    "    while <condition 2>:\n",
    "        # corps 2\n",
    "    # fin corps 1\n",
    "# suite\n",
    "```\n",
    "\n",
    "**Syntaxe d'une boucle `while` contenant une boucle `for ... in range(...):`**\n",
    "```python\n",
    "# début\n",
    "while <condition 1>:\n",
    "    # début corps 1\n",
    "    N = ...\n",
    "    for <variable> in range(N):\n",
    "        # corps 2\n",
    "    # fin corps 1\n",
    "# suite\n",
    "```\n",
    "\n",
    "**Syntaxe d'une boucle `for ... in range(...):` contenant une boucle `while`**\n",
    "\n",
    "```python\n",
    "# début\n",
    "N = \n",
    "for <variable> in range(N):\n",
    "    # début corps 1\n",
    "    while <condition 2>:\n",
    "        # corps 2\n",
    "    # fin corps 1\n",
    "# suite\n",
    "```\n",
    "\n",
    "**Syntaxe d'une double boucle `for ... in range(...)` :**\n",
    "```python\n",
    "# début\n",
    "M = \n",
    "for <variable> in range(M):\n",
    "    # début corps 1\n",
    "    N = \n",
    "    for <variable> in range(N):\n",
    "        # corps 2\n",
    "    # fin corps 1\n",
    "# suite\n",
    "```"
   ]
  },
  {
   "cell_type": "markdown",
   "metadata": {},
   "source": [
    "### Exemple 1 : Ajout d'une saisie contrôlée dans le programme de l'exercice 8"
   ]
  },
  {
   "cell_type": "code",
   "execution_count": null,
   "metadata": {},
   "outputs": [],
   "source": [
    "nb_nombre_saisi = 0\n",
    "somme = 0\n",
    "saisie = None #variable en fait pas réellement initialisée\n",
    "while saisie != \"stop\":\n",
    "    saisie = input(\"Donnez-moi un entier : \")\n",
    "    if saisie != \"stop\":\n",
    "        nb = int(saisie)\n",
    "        while nb < 0 or nb > 20:\n",
    "            nb = int(input(\"Donnez-moi un entier : \"))\n",
    "        nb_nombre_saisi += 1\n",
    "        somme += nb\n",
    "print(\"moyenne = \", somme / nb_nombre_saisi)"
   ]
  },
  {
   "cell_type": "markdown",
   "metadata": {},
   "source": [
    "### Exemple 2 : Dessin d'une rosace, avec le module Turtle :"
   ]
  },
  {
   "cell_type": "code",
   "execution_count": null,
   "metadata": {},
   "outputs": [],
   "source": [
    "\"\"\"\n",
    "Tracé de rosaces par rotation de polygones.\n",
    "\"\"\"\n",
    "from turtle import *\n",
    "\n",
    "# Paramètres\n",
    "speed(0)\n",
    "nb_cotes = 20\n",
    "lg_cote = 10\n",
    "angle_poly = 360 / nb_cotes\n",
    "nb_petales = 12\n",
    "angle_rosace = 360 / nb_petales\n",
    "\n",
    "# Tracé de la rosace\n",
    "for cmpt_petales in range(nb_petales):\n",
    "    for cmpt_cote in range(nb_cotes):\n",
    "        forward(lg_cote)\n",
    "        left(angle_poly)\n",
    "    left(angle_rosace)\n",
    "\n",
    "exitonclick()"
   ]
  },
  {
   "cell_type": "markdown",
   "metadata": {},
   "source": [
    "### Vérifier vos connaissances\n",
    "\n",
    "A ce stade, vous devriez être capable :\n",
    "* d'identifier les situations où l'on a besoin de boucles imbriquées ;\n",
    "* d'écrire correctement des boucles imbriquées."
   ]
  },
  {
   "cell_type": "markdown",
   "metadata": {},
   "source": [
    "#### Exercice 11 :\n",
    "\n",
    "Écrire un programme qui affiche toutes les tables de multiplication de `1` à `10`."
   ]
  }
 ],
 "metadata": {
  "kernelspec": {
   "display_name": "Python 3",
   "language": "python",
   "name": "python3"
  },
  "language_info": {
   "codemirror_mode": {
    "name": "ipython",
    "version": 3
   },
   "file_extension": ".py",
   "mimetype": "text/x-python",
   "name": "python",
   "nbconvert_exporter": "python",
   "pygments_lexer": "ipython3",
   "version": "3.5.2"
  }
 },
 "nbformat": 4,
 "nbformat_minor": 2
}
