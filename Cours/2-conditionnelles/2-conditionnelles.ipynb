{
 "cells": [
  {
   "cell_type": "markdown",
   "metadata": {},
   "source": [
    "<div>\n",
    "<div style='float:left; margin-right:40pt; width:6cm'><img src='img/UPEM-IGM-V1_300dpi.png'></div>\n",
    "<div style='float:right; font-size:large; text-align:right'><strong>Algorithmique et programmation 1</strong><br>\n",
    "L1 Mathématiques - L1 Informatique<br>\n",
    "Semestre 1\n",
    "</div>\n",
    "</div>"
   ]
  },
  {
   "cell_type": "markdown",
   "metadata": {},
   "source": [
    "# Chapitre 2 : Conditionnelles et expressions booléennes"
   ]
  },
  {
   "cell_type": "markdown",
   "metadata": {},
   "source": [
    "Dans ce chapitre vous allez apprendre à :\n",
    "1. effectuer des traitements différents selon si une condition est réalisée ou non ;\n",
    "2. manipuler les expressions logiques ;\n",
    "3. écrire correctement en Python une structure conditionnelle, aussi complexe soit-elle ;\n",
    "4. expliquer l'ordre dans lequel les lignes d'un programme contenant des blocs conditionnels seront exécutées en fonction des données fournies au programme ;\n",
    "5. simplifier, quand c'est possible, une imbrication de blocs conditionnels en utilisant des opérateurs booléens ;\n",
    "6. éliminer les opérateurs booléens d'une condition en introduisant de nouveaux blocs conditionnels."
   ]
  },
  {
   "cell_type": "markdown",
   "metadata": {},
   "source": [
    "## I Introduction\n",
    "\n",
    "Au chapitre précédent, nous avons appris à écrire un programme court réalisant des entrées/sorties avec l'utilisateur, pouvant affecter des valeurs à des variables et effectuant des calculs arithmétiques sur ces variables.\n",
    "\n",
    "Les **instructions** de nos programmes sont exécutées dans l'ordre, de manière linéaire les unes après les autres. On va maintenant ajouter la possibilité de faire des **choix** dans le programme, pour exécuter des instructions différentes selon les cas.\n",
    "\n",
    "Mais avant tout, commençons par un peu de révisions !\n",
    "\n",
    "### Exercice 1 : Révisions\n",
    "\n",
    "Que réalise le programme suivant ?\n",
    "```\n",
    "note_cc1 = float(input('Note du premier contrôle : '))\n",
    "note_cc2 = float(input('Note du second contrôle : '))\n",
    "note_exam = float(input(\"Note de l'examen : \"))\n",
    "\n",
    "moyenne_cc = (note_cc1 + note_cc2) / 2\n",
    "note_finale = (moyenne_cc + note_exam) / 2\n",
    "\n",
    "print('Note finale :', note_finale)\n",
    "```"
   ]
  },
  {
   "cell_type": "markdown",
   "metadata": {},
   "source": [
    "Nous allons maintenant voir comment on pourrait :\n",
    "* ne prendre en compte que la `note_exam` si celle-ci est supérieure à la``note_finale` ;\n",
    "* féliciter l'étudiant qui a une `note_finale` supérieure à `10` et encourager celui qui en a une entre `8` et `10`.\n",
    "\n",
    "Tout au long du cours, nous allons faire évoluer ce programme."
   ]
  },
  {
   "cell_type": "markdown",
   "metadata": {},
   "source": [
    "## II Expressions booléennes\n",
    "\n",
    "Les instructions conditionnelles (vues ci-dessous) sont écrites à l'aide d'expressions booléennes, c'est à dire d'expressions qui s'évaluent en un valeur de type `bool` (`True` ou `False`). Elles peuvent contenir des opérateurs de comparaison, des opérateurs logiques, etc."
   ]
  },
  {
   "cell_type": "markdown",
   "metadata": {},
   "source": [
    "### 1) Opérateurs de comparaison\n",
    "\n",
    "Plusieurs opérateurs ont des résultats booléens\n",
    "- Comparaisons :  `a < b`  `a <= b`  `a >= b`  `a > b`\n",
    "- Égalité ou inégalité :  `a == b`  `a != b`\n",
    "\n",
    "Ces opérateurs fonctionnent sur de nombreux types de valeurs\n",
    "- Sur les `int` et `float` : ordre naturel\n",
    "- Sur les `str` : ordre lexicographique (dictionnaire)\n",
    "- Sur d'autres types qu'on verra plus tard"
   ]
  },
  {
   "cell_type": "code",
   "execution_count": null,
   "metadata": {},
   "outputs": [],
   "source": [
    "1 == 3 - 2"
   ]
  },
  {
   "cell_type": "code",
   "execution_count": null,
   "metadata": {},
   "outputs": [],
   "source": [
    "1 < 3"
   ]
  },
  {
   "cell_type": "code",
   "execution_count": null,
   "metadata": {},
   "outputs": [],
   "source": [
    "3 <= 3"
   ]
  },
  {
   "cell_type": "code",
   "execution_count": null,
   "metadata": {},
   "outputs": [],
   "source": [
    "'aboyer' < 'abime'"
   ]
  },
  {
   "cell_type": "code",
   "execution_count": null,
   "metadata": {},
   "outputs": [],
   "source": [
    "1 < 4.0"
   ]
  },
  {
   "cell_type": "markdown",
   "metadata": {},
   "source": [
    "**Attention :** on ne peut pas ordonner des valeurs de types différents (sauf des nombres) ! "
   ]
  },
  {
   "cell_type": "code",
   "execution_count": null,
   "metadata": {},
   "outputs": [],
   "source": [
    "'1' < 2"
   ]
  },
  {
   "cell_type": "markdown",
   "metadata": {},
   "source": [
    "Par contre, les opérateurs `==` et `!=` acceptent des opérandes de types différents"
   ]
  },
  {
   "cell_type": "code",
   "execution_count": null,
   "metadata": {},
   "outputs": [],
   "source": [
    "2 == '2'"
   ]
  },
  {
   "cell_type": "code",
   "execution_count": null,
   "metadata": {},
   "outputs": [],
   "source": [
    "'bonjour' != None"
   ]
  },
  {
   "cell_type": "code",
   "execution_count": null,
   "metadata": {},
   "outputs": [],
   "source": [
    "2 == 2.0  # Cas particulier : vrai car float(2) == 2.0"
   ]
  },
  {
   "cell_type": "markdown",
   "metadata": {},
   "source": [
    "<img src='img/warning.png' width='50px' style='display:inline'> Ne pas confondre l'opérateur d'égalité (`==`) avec l'opérateur d'affectation (`=`) !"
   ]
  },
  {
   "cell_type": "markdown",
   "metadata": {},
   "source": [
    "### Exercice 2 : Opérateurs de comparaison\n",
    "\n",
    "Que valent les expressions suivantes ?"
   ]
  },
  {
   "cell_type": "code",
   "execution_count": null,
   "metadata": {},
   "outputs": [],
   "source": [
    "1. < 2"
   ]
  },
  {
   "cell_type": "code",
   "execution_count": null,
   "metadata": {},
   "outputs": [],
   "source": [
    "\"1 >= 0\""
   ]
  },
  {
   "cell_type": "code",
   "execution_count": null,
   "metadata": {},
   "outputs": [],
   "source": [
    "None != 0"
   ]
  },
  {
   "cell_type": "code",
   "execution_count": null,
   "metadata": {},
   "outputs": [],
   "source": [
    "\"to\" * 2 == \"toto\" "
   ]
  },
  {
   "cell_type": "markdown",
   "metadata": {},
   "source": [
    "### 2) Opérateurs logiques\n",
    "\n",
    "On peut combiner plusieurs expressions booléennes à l'aide d'opérateurs logiques :\n",
    "  \n",
    "- `a and b` vaut `False` dès que l'une des variables vaut `False`,  et vaut `True` si les deux variables valent `True`.\n",
    "\n",
    "- `a or b` vaut `True` si l'une des deux variables vaut `True`, et  `False` sinon.\n",
    "\n",
    "- `not a` vaut `True` si `a` vaut `False`, et vaut `False`si `a`vaut `True`."
   ]
  },
  {
   "cell_type": "code",
   "execution_count": null,
   "metadata": {},
   "outputs": [],
   "source": [
    "True and False"
   ]
  },
  {
   "cell_type": "code",
   "execution_count": null,
   "metadata": {},
   "outputs": [],
   "source": [
    "not 3 + 4 != 7"
   ]
  },
  {
   "cell_type": "code",
   "execution_count": null,
   "metadata": {},
   "outputs": [],
   "source": [
    "4 < 1 or 'Bonjour' >= 'Au revoir'"
   ]
  },
  {
   "cell_type": "markdown",
   "metadata": {},
   "source": [
    "On peut résumer le comportement de ces opérateurs à l'aide de tableaux, appelés **tables de vérité** :\n",
    "\n",
    "`a`     | `not a` \n",
    "--------|---------\n",
    "`True`  | `False`\n",
    "`False` | `True`   \n",
    "\n",
    "`a`| `b` | `a and  b`\n",
    "---|---|---\n",
    "`True` | `True` | `True` \n",
    "`True` | `False` | `False` \n",
    "`False` | `True` | `False` \n",
    "`False` | `False` | `False`\n",
    "\n",
    "`a` | `b` | `a or  b`\n",
    "---|---|---\n",
    "`True` | `True` | `True` \n",
    "`True` | `False` | `True` \n",
    "`False` | `True` | `True` \n",
    "`False` | `False` | `False`\n"
   ]
  },
  {
   "cell_type": "code",
   "execution_count": null,
   "metadata": {},
   "outputs": [],
   "source": [
    "x = 11  # essayer plusieurs valeurs de x\n",
    "print(x >= 0 and x <= 10)  # x appartient à l'intervalle fermé [0, 10]\n",
    "print(x < 0 or x > 10)  # x n'appartient pas à l'intervalle fermé [0, 10]\n",
    "print(not (x < 0 or x > 10))  # comment interpréter cette ligne ??"
   ]
  },
  {
   "cell_type": "markdown",
   "metadata": {},
   "source": [
    "#### Exercice 3 :\n",
    "\n",
    "Pour quelles valeurs des variables `n`, `somme` et `seuil` l'expression suivante vaut-elle `True` ?\n",
    "```\n",
    "(n <= 3 and somme + n > seuil) or n > 3\n",
    "```"
   ]
  },
  {
   "cell_type": "code",
   "execution_count": null,
   "metadata": {},
   "outputs": [],
   "source": [
    "n = 2.1\n",
    "somme = 0\n",
    "seuil = 2 \n",
    "b = (n <= 3 and somme + n > seuil) or n > 3\n",
    "print(b)"
   ]
  },
  {
   "cell_type": "markdown",
   "metadata": {},
   "source": [
    "### 3) Vérifier vos connaissances\n",
    "\n",
    "A ce stade, vous devez être capable de :\n",
    "* citer les six opérateurs de comparaisons en Python ;\n",
    "* savoir évaluer le résultat d'une expression logique simple ;\n",
    "* comprendre les mécanisme de conversions implicites lors de l'évaluation d'une expression logique ;\n",
    "* citer les trois opérateurs logique que nous avons vus ;\n",
    "* donner la table de vérité des trois opérateurs logique que nous avons vus ;\n",
    "* savoir simplifier une expression logique simple."
   ]
  },
  {
   "cell_type": "markdown",
   "metadata": {},
   "source": [
    "#### Exercice 4 :\n",
    "\n",
    "Donner le résultat des expressions logiques suivantes :"
   ]
  },
  {
   "cell_type": "code",
   "execution_count": null,
   "metadata": {},
   "outputs": [],
   "source": [
    "a = 10\n",
    "b = 2\n",
    "c = 6"
   ]
  },
  {
   "cell_type": "code",
   "execution_count": null,
   "metadata": {},
   "outputs": [],
   "source": [
    "a < b or a > c"
   ]
  },
  {
   "cell_type": "code",
   "execution_count": null,
   "metadata": {},
   "outputs": [],
   "source": [
    "a + b < 2 * c"
   ]
  },
  {
   "cell_type": "code",
   "execution_count": null,
   "metadata": {},
   "outputs": [],
   "source": [
    "a - b == b + c"
   ]
  },
  {
   "cell_type": "code",
   "execution_count": null,
   "metadata": {},
   "outputs": [],
   "source": [
    "(a > b and a > c) or (b > a and b > c)"
   ]
  },
  {
   "cell_type": "code",
   "execution_count": null,
   "metadata": {},
   "outputs": [],
   "source": [
    "a < b < c"
   ]
  },
  {
   "cell_type": "code",
   "execution_count": null,
   "metadata": {},
   "outputs": [],
   "source": [
    "a == b == c"
   ]
  },
  {
   "cell_type": "code",
   "execution_count": null,
   "metadata": {},
   "outputs": [],
   "source": [
    "(a <= b and a <= c) or not (b < a)"
   ]
  },
  {
   "cell_type": "code",
   "execution_count": null,
   "metadata": {},
   "outputs": [],
   "source": [
    "not (a > b and a > c) or (b > a and b > c)"
   ]
  },
  {
   "cell_type": "markdown",
   "metadata": {},
   "source": [
    "#### Exercice 5 : \n",
    "\n",
    "variables ne servent à rien ou etre simplifier\n",
    "\n",
    "Les expressions logiques suivantes ne dépendent pas des variables `x`, `y`, `z`.\n",
    "peuvent être simplifiées. Cela peut avoir une grande importance pour la lisibilité d'un programme.\n",
    "\n",
    "Simplifiez les autant que possible."
   ]
  },
  {
   "cell_type": "code",
   "execution_count": null,
   "metadata": {},
   "outputs": [],
   "source": [
    "x = True\n",
    "y = False\n",
    "z = True"
   ]
  },
  {
   "cell_type": "code",
   "execution_count": null,
   "metadata": {},
   "outputs": [],
   "source": [
    "(x + y > 3 * z) or True"
   ]
  },
  {
   "cell_type": "code",
   "execution_count": null,
   "metadata": {},
   "outputs": [],
   "source": [
    "(x <= y and x <= z) or not (y < x)"
   ]
  },
  {
   "cell_type": "code",
   "execution_count": null,
   "metadata": {},
   "outputs": [],
   "source": [
    "(x == y and y == z) or (x == y and y != z)"
   ]
  },
  {
   "cell_type": "markdown",
   "metadata": {},
   "source": [
    "## III Instructions conditionnelles"
   ]
  },
  {
   "cell_type": "markdown",
   "metadata": {},
   "source": [
    "### 1) Cas simple : Conditionnelle `Si`\n",
    "\n",
    "On peut maintenant modifier le flot d'instructions selon la valeur d'expressions booléennes, ou conditions :\n",
    "\n",
    "- **Si** une certaine condition est vraie, exécuter un certain groupe (ou bloc) d'instructions\n",
    "- **Sinon**, passer directement à la suite du programme\n",
    "\n",
    "<img src='img/conditionnelle1.png' width='300px'>\n",
    "\n",
    "La syntaxe d'une instruction conditionnelle est :\n",
    "\n",
    "```python\n",
    "# début\n",
    "if condition:\n",
    "    # bloc d'instructions V\n",
    "# suite\n",
    "```\n",
    "\n",
    "- Les instructions du bloc **v** sont exécutées uniquement si `condition` est évaluée à `True`\n",
    "- Dans tous les cas, l'exécution reprend à l'instruction suivant le bloc **v**"
   ]
  },
  {
   "cell_type": "markdown",
   "metadata": {},
   "source": [
    "#### Exemple 1 :"
   ]
  },
  {
   "cell_type": "code",
   "execution_count": null,
   "metadata": {},
   "outputs": [],
   "source": [
    "prenom = input(\"Quel est votre prénom ? \")\n",
    "if prenom == 'Hildegarde':\n",
    "    print('Très joli prénom !')\n",
    "print('Bonjour', prenom, '!')"
   ]
  },
  {
   "cell_type": "markdown",
   "metadata": {},
   "source": [
    "#### Exemple 2 :\n",
    "\n",
    "Reprenons maintenant notre exemple introductif :"
   ]
  },
  {
   "cell_type": "code",
   "execution_count": null,
   "metadata": {},
   "outputs": [],
   "source": [
    "# La note finale est le maximum de la note d'examen\n",
    "# et de la moyenne entre examen et moyenne de contrôle\n",
    "# continu\n",
    "note_cc1 = float(input('Note du premier contrôle : '))\n",
    "note_cc2 = float(input('Note du second contrôle : '))\n",
    "note_exam = float(input(\"Note de l'examen : \"))\n",
    "\n",
    "moyenne_cc = (note_cc1 + note_cc2) / 2\n",
    "note_finale = (moyenne_cc + note_exam) / 2\n",
    "\n",
    "if note_finale < note_exam:\n",
    "    # Les deux instructions suivantes ne s'exécutent que si\n",
    "    # la condition est vraie (remarquer le décalage des lignes)\n",
    "    note_finale = note_exam\n",
    "    print('Note de contrôle non prise en compte.')\n",
    "\n",
    "print('Note finale :', note_finale)"
   ]
  },
  {
   "cell_type": "markdown",
   "metadata": {},
   "source": [
    "#### La notion de bloc\n",
    "\n",
    "Sur cet exemple, on a vu un groupe de lignes commençant par des espaces, appelé **bloc**. Un bloc est utilisé pour regrouper plusieurs instructions dépendant de la même condition.\n",
    "\n",
    "- Un tel groupe d'instructions est appelé un **bloc**\n",
    "- Le décalage du début de ligne est appelé **indentation**\n",
    "- Commencer une ligne avec une indentation supérieure à la précédente commence un nouveau bloc (sur le second exemple : `note_finale = note_exam`)\n",
    "- Un bloc se termine quand une ligne **moins indentée** apparaît (sur l'exemple : `print('Note finale :', note_finale)`)\n",
    "- Pour indenter la ligne courante : touche \"tabulation\" (⇥) \n",
    "- Pour désindenter une ligne : \"Shift + tabulation\" (⇧ + ⇥)\n",
    "- Changer l'indentation change le sens du programme (essayer !)"
   ]
  },
  {
   "cell_type": "markdown",
   "metadata": {},
   "source": [
    "#### Erreurs fréquentes liées à l'indentation :"
   ]
  },
  {
   "cell_type": "code",
   "execution_count": null,
   "metadata": {},
   "outputs": [],
   "source": [
    "if note_finale < note_exam  # oubli des deux points (:)\n",
    "    note_finale = note_exam\n",
    "    print('Note de contrôle non prise en compte.')"
   ]
  },
  {
   "cell_type": "code",
   "execution_count": null,
   "metadata": {},
   "outputs": [],
   "source": [
    "if note_finale < note_exam:\n",
    "    note_finale = note_exam\n",
    "  print('Note de contrôle non prise en compte.')  # ligne pas assez indentée "
   ]
  },
  {
   "cell_type": "code",
   "execution_count": null,
   "metadata": {},
   "outputs": [],
   "source": [
    "if note_finale < note_exam:\n",
    "    note_finale = note_exam\n",
    "        print('Note de contrôle non prise en compte.')  # ligne trop indentée "
   ]
  },
  {
   "cell_type": "code",
   "execution_count": null,
   "metadata": {},
   "outputs": [],
   "source": [
    "if note_finale < note_exam:\n",
    "note_finale = note_exam  # oubli d'indentation"
   ]
  },
  {
   "cell_type": "markdown",
   "metadata": {},
   "source": [
    "### Vérifier vos connaissances\n",
    "\n",
    "A ce stade, vous devez être capable :\n",
    "* d'écrire correctement en Python une structure conditionnelle simple (utilisation des :, indentation, ...) ;\n",
    "* d'évaluer le résultat d'une structure conditionnelle simple en Python ;\n",
    "* d'identifier les différents blocs dans un programme"
   ]
  },
  {
   "cell_type": "markdown",
   "metadata": {},
   "source": [
    "#### Exercice 6 :\n",
    "\n",
    "Écrire un programme qui demande un entier saisi au clavier par l’utilisateur et affiche\n",
    "`strictement positif` s’il est strictement positif."
   ]
  },
  {
   "cell_type": "markdown",
   "metadata": {},
   "source": [
    "#### Exercice 7 :\n",
    "\n",
    "Écrire un programme qui demande à l’utilisateur le poids de son bagage en kilos.\n",
    "Si le bagage pèse plus de 20 kilos, le programme affichera le message :\n",
    "\n",
    "```\n",
    "Vous devez payer un supplément.\n",
    "```"
   ]
  },
  {
   "cell_type": "markdown",
   "metadata": {},
   "source": [
    "#### Exercice 8 :\n",
    "\n",
    "Qu'affiche le programme suivant :\n",
    "```\n",
    "a = 10\n",
    "if a > 1000:\n",
    "    print(\"grand\")\n",
    "print(\"nombre\")\n",
    "```"
   ]
  },
  {
   "cell_type": "markdown",
   "metadata": {},
   "source": [
    "### 2) Conditionnelles `Si ... Sinon ...`\n",
    "\n",
    "\n",
    "\n",
    "On peut ajouter un second bloc d'instructions\n",
    "- **Si** une certaine condition est vraie, exécuter le premier bloc\n",
    "- **Sinon**, exécuter le second\n",
    "- Enfin, continuer l'exécution normale du programme\n",
    "  \n",
    "Syntaxe :\n",
    "\n",
    "```python\n",
    "# début\n",
    "if <condition>:\n",
    "    # bloc v\n",
    "else:\n",
    "    # bloc f\n",
    "# suite\n",
    "```\n",
    "\n",
    "Seul *l'un des deux* blocs d'instructions, **v** *ou bien* **f**, est exécuté\n",
    "- Le bloc **v** uniquement si `condition` est évaluée à `True`\n",
    "- Le bloc **f** uniquement si `condition` est évaluée à `False`\n",
    "- Dans tous les cas, reprise à l'instruction suivant le bloc **f**\n",
    "\n",
    "<img src='img/conditionnelle2.png' width='30%'>"
   ]
  },
  {
   "cell_type": "markdown",
   "metadata": {},
   "source": [
    "#### Notre exemple favori\n",
    "\n",
    "En plus de la dernière version, on cherche à savoir si le contrôle continu a été pris en compte."
   ]
  },
  {
   "cell_type": "code",
   "execution_count": null,
   "metadata": {},
   "outputs": [],
   "source": [
    "# La note finale est le maximum de la note d'examen\n",
    "# et de la moyenne entre examen et moyenne de contrôle\n",
    "# continu\n",
    "\n",
    "note_cc1 = float(input('Note du premier contrôle : '))\n",
    "note_cc2 = float(input('Note du second contrôle : '))\n",
    "note_exam = float(input(\"Note de l'examen : \"))\n",
    "\n",
    "moyenne_cc = (note_cc1 + note_cc2) / 2\n",
    "\n",
    "if moyenne_cc < note_exam:\n",
    "    # Bloc à exécuter si la condition est vraie\n",
    "    note_finale = note_exam\n",
    "    print('Note de contrôle non prise en compte.')\n",
    "else:  # moyenne_cc >= note_exam\n",
    "    # Bloc à exécuter si la condition est fausse\n",
    "    note_finale = (moyenne_cc + note_exam) / 2\n",
    "    print('Note de contrôle prise en compte.')\n",
    "\n",
    "# Instruction exécutée dans tous les cas\n",
    "print('Note finale :', note_finale)"
   ]
  },
  {
   "cell_type": "markdown",
   "metadata": {},
   "source": [
    "**Un autre exemple : la division euclidienne**"
   ]
  },
  {
   "cell_type": "code",
   "execution_count": null,
   "metadata": {},
   "outputs": [],
   "source": [
    "dividende = int(input(\"Donner moi un dividende : \"))\n",
    "diviseur = int(input(\"Donner moi un diviseur : \"))\n",
    "if diviseur != 0:\n",
    "    print(dividende, '=', dividende // diviseur, '*', diviseur, '+', dividende % diviseur )\n",
    "else:\n",
    "    print('Division par zéro')"
   ]
  },
  {
   "cell_type": "markdown",
   "metadata": {},
   "source": [
    "### Vérifier vos connaissances\n",
    "\n",
    "A ce stade, vous devriez savoir :\n",
    "* écrire une structure conditionnelle `Si ... Sinon ...`.\n",
    "\n",
    "#### Exercice 9 :\n",
    "\n",
    "Écrire un programme qui demande un entier saisi au clavier par l’utilisateur et affiche\n",
    "```positif``` si l'entier est positif ou nul et ```negatif``` sinon."
   ]
  },
  {
   "cell_type": "markdown",
   "metadata": {},
   "source": [
    "### 3) Conditionnelles composées\n",
    "\n",
    "Cette construction peut être imbriquée :\n",
    "\n",
    "```python\n",
    "# début\n",
    "if <condition 1>:\n",
    "    if <condition 2>:\n",
    "        # bloc v1v2\n",
    "    else:\n",
    "        # bloc v1f2\n",
    "    # suite 2\n",
    "else:\n",
    "    # bloc f1\n",
    "# suite 1\n",
    "```\n",
    "\n",
    "<img src='img/conditionnelle3.png' width='60%'>\n",
    "\n",
    "Toutes les variantes sont possibles — si chaque `else` correspond à un `if` de même indentation !"
   ]
  },
  {
   "cell_type": "markdown",
   "metadata": {},
   "source": [
    "#### Notre exemple favori\n",
    "\n",
    "On veut désormais ajouter la possibilité de tester si les notes données sont des notes positives."
   ]
  },
  {
   "cell_type": "code",
   "execution_count": null,
   "metadata": {},
   "outputs": [],
   "source": [
    "# La note finale est le maximum de la note d'examen\n",
    "# et de la moyenne entre examen et moyenne de contrôle\n",
    "# continu\n",
    "\n",
    "note_cc1 = float(input('Note du premier contrôle : '))\n",
    "note_cc2 = float(input('Note du second contrôle : '))\n",
    "note_exam = float(input(\"Note de l'examen : \"))\n",
    "\n",
    "# On vérifie qu'aucune note n'est négative\n",
    "if note_cc1 < 0 or note_cc2 < 0 or note_exam < 0:\n",
    "    # Remarquer l'opérateur 'or'\n",
    "    print('Erreur de saisie (note négative).')\n",
    "else:\n",
    "    moyenne_cc = (note_cc1 + note_cc2) / 2\n",
    "    # Condition dans la condition\n",
    "    if moyenne_cc < note_exam:\n",
    "        # Indentation supplémentaire\n",
    "        note_finale = note_exam\n",
    "        print('Note de contrôle non prise en compte.')\n",
    "    else:\n",
    "        note_finale = (moyenne_cc + note_exam) / 2\n",
    "        print('Note de contrôle prise en compte.')\n",
    "    print('Note finale :', note_finale)"
   ]
  },
  {
   "cell_type": "markdown",
   "metadata": {},
   "source": [
    "### Vérifier vos connaissances\n",
    "\n",
    "A ce stade, vous devriez être capable :\n",
    "* d'expliquer quelles lignes seront exécutées dans un programme contenant des blocs conditionnels en fonction des données fournies au programme ;\n",
    "* simplifier, quand c'est possible, une imbrication de blocs conditionnels en utilisant des opérateurs booléens ;\n",
    "* éliminer les opérateurs booléens d'une condition en introduisant de nouveaux blocs conditionnels."
   ]
  },
  {
   "cell_type": "markdown",
   "metadata": {},
   "source": [
    "**Exercice 10 : Evaluations d'un programme**\n",
    "\n",
    "Qu’affiche le programme ci-dessus lorsque :\n",
    "* le premier nombre donné est 1 et le second est 0.\n",
    "* le premier nombre donné est 2 et le second est 2.\n",
    "* le premier nombre donné est 3 et le second est 0.\n",
    "* le premier nombre donné est 4 et le second est 4.\n",
    "\n",
    "```\n",
    "a = int(input('Donnez un nombre : '))\n",
    "b = int(input('Donnez un nombre : '))\n",
    "print('toto')\n",
    "if a > 2:\n",
    "    print('tata')\n",
    "    if b >= a:\n",
    "        print('truc')\n",
    "    else:\n",
    "        print('bla')\n",
    "    print('poire')\n",
    "print('42')\n",
    "```"
   ]
  },
  {
   "cell_type": "markdown",
   "metadata": {},
   "source": [
    "#### Exercice 11 : Transformation de conditions imbriquées\n",
    "\n",
    "Modifier le programme suivant pour qu'il ne contienne qu'une seule condition.\n",
    "```\n",
    "a = int(input(\"Donnez moi un entier : \"))\n",
    "b = int(input(\"Donnez moi un entier : \"))\n",
    "if a > 0:\n",
    "    if b == 2 * a\n",
    "        print(\"Le nombre positif b est le double de a\")\n",
    "    else:\n",
    "        print(\"a est négatif ou b n'est pas le double de a\")\n",
    "else:\n",
    "    print(\"a est négatif ou b n'est pas le double de a\")    \n",
    "```"
   ]
  },
  {
   "cell_type": "markdown",
   "metadata": {},
   "source": [
    "### 4) Conditionnelles enchaînées :\n",
    "  \n",
    "Cas particulier où le bloc `else` contient seulement un autre `if` : le mot-clé `elif`\n",
    "\n",
    "Le code...\n",
    "```python\n",
    "# début\n",
    "if <condition 1>:\n",
    "    # bloc **v1**\n",
    "else:\n",
    "    if <condition 2>:\n",
    "        # bloc **f1v2**\n",
    "    else:\n",
    "        # bloc **f1f2**\n",
    "# suite\n",
    "```\n",
    "\n",
    "... s'écrit aussi :\n",
    "```python\n",
    "# début\n",
    "if <condition 1>:\n",
    "    # bloc **v1**\n",
    "elif <condition 2>:\n",
    "    # bloc **f1v2**\n",
    "else:\n",
    "    # bloc **f1f2**\n",
    "# suite\n",
    "```\n",
    "\n",
    "On peut ainsi enchaîner autant de conditions qu'on le souhaite, lorsque les cas ne se recouvrent pas :\n",
    "\n",
    "```python\n",
    "# début\n",
    "if <condition 1>:\n",
    "    # bloc **v1**\n",
    "elif <condition 2>:\n",
    "    # bloc **f1v2**\n",
    "elif <condition 3>:\n",
    "    # bloc **f1f2v3**\n",
    "else:\n",
    "    # bloc **f1f2f3**\n",
    "# suite\n",
    "```\n",
    "\n",
    "**Exemple final :**"
   ]
  },
  {
   "cell_type": "code",
   "execution_count": null,
   "metadata": {},
   "outputs": [],
   "source": [
    "# La note finale est le maximum de la note d'examen\n",
    "# et de la moyenne entre examen et moyenne de contrôle\n",
    "# continu\n",
    "\n",
    "note_cc1 = float(input('Note du premier contrôle : '))\n",
    "note_cc2 = float(input('Note du second contrôle : '))\n",
    "note_exam = float(input(\"Note de l'examen : \"))\n",
    "\n",
    "if note_cc1 < 0 or note_cc2 < 0 or note_exam < 0:\n",
    "    print('Erreur de saisie (note négative).')\n",
    "else:\n",
    "    moyenne_cc = (note_cc1 + note_cc2) / 2\n",
    "\n",
    "    if moyenne_cc < note_exam:\n",
    "        note_finale = note_exam\n",
    "        print('Note de contrôle non prise en compte.')\n",
    "    else:\n",
    "        note_finale = (moyenne_cc + note_exam) / 2\n",
    "        print('Note de contrôle prise en compte.')\n",
    "    print('Note finale :', note_finale)\n",
    "\n",
    "    if note_finale < 10:\n",
    "        print('Encore un petit effort !')\n",
    "    elif note_finale < 12:\n",
    "        print('Ça passe !')\n",
    "    elif note_finale < 14:\n",
    "        print('Pas mal !')\n",
    "    else:  # Quelles valeurs possibles ?\n",
    "        print('Bravo !')"
   ]
  },
  {
   "cell_type": "markdown",
   "metadata": {},
   "source": [
    "### Vérifier vos connaissances\n",
    "\n",
    "A ce stade, vous devriez être capable :\n",
    "* d'écrire correctement en Python une structure conditionnelle simple ou complexe ;"
   ]
  },
  {
   "cell_type": "markdown",
   "metadata": {},
   "source": [
    "**Exercice 12 : Où est cette valeur ?**\n",
    "\n",
    "Pour quelles plages de valeur de la variable `a` le programme suivant affiche-t-il `X` ?\n",
    "\n",
    "Que se passe-t-il si `a` n’est pas de type `int` ?\n",
    "  \n",
    "```\n",
    "if a > 10:\n",
    "    print('a grand')\n",
    "elif a < 5:\n",
    "    print('a petit')\n",
    "else:\n",
    "    print('X')\n",
    "```"
   ]
  },
  {
   "cell_type": "code",
   "execution_count": 5,
   "metadata": {},
   "outputs": [
    {
     "ename": "TypeError",
     "evalue": "'>' not supported between instances of 'str' and 'int'",
     "output_type": "error",
     "traceback": [
      "\u001b[0;31m---------------------------------------------------------------------------\u001b[0m",
      "\u001b[0;31mTypeError\u001b[0m                                 Traceback (most recent call last)",
      "\u001b[0;32m<ipython-input-5-26e5defc9e2e>\u001b[0m in \u001b[0;36m<module>\u001b[0;34m()\u001b[0m\n\u001b[1;32m      1\u001b[0m \u001b[0ma\u001b[0m \u001b[0;34m=\u001b[0m \u001b[0;34m\"10.3\"\u001b[0m\u001b[0;34m\u001b[0m\u001b[0m\n\u001b[0;32m----> 2\u001b[0;31m \u001b[0;32mif\u001b[0m \u001b[0ma\u001b[0m \u001b[0;34m>\u001b[0m \u001b[0;36m10\u001b[0m\u001b[0;34m:\u001b[0m\u001b[0;34m\u001b[0m\u001b[0m\n\u001b[0m\u001b[1;32m      3\u001b[0m     \u001b[0mprint\u001b[0m\u001b[0;34m(\u001b[0m\u001b[0;34m'a grand'\u001b[0m\u001b[0;34m)\u001b[0m\u001b[0;34m\u001b[0m\u001b[0m\n\u001b[1;32m      4\u001b[0m \u001b[0;32melif\u001b[0m \u001b[0ma\u001b[0m \u001b[0;34m<\u001b[0m \u001b[0;36m5\u001b[0m\u001b[0;34m:\u001b[0m\u001b[0;34m\u001b[0m\u001b[0m\n\u001b[1;32m      5\u001b[0m     \u001b[0mprint\u001b[0m\u001b[0;34m(\u001b[0m\u001b[0;34m'a petit'\u001b[0m\u001b[0;34m)\u001b[0m\u001b[0;34m\u001b[0m\u001b[0m\n",
      "\u001b[0;31mTypeError\u001b[0m: '>' not supported between instances of 'str' and 'int'"
     ]
    }
   ],
   "source": [
    "a = \"10.3\"\n",
    "if a > 10:\n",
    "    print('a grand')\n",
    "elif a < 5:\n",
    "    print('a petit')\n",
    "else:\n",
    "    print('X')"
   ]
  },
  {
   "cell_type": "code",
   "execution_count": null,
   "metadata": {},
   "outputs": [],
   "source": []
  }
 ],
 "metadata": {
  "kernelspec": {
   "display_name": "Python 3",
   "language": "python",
   "name": "python3"
  },
  "language_info": {
   "codemirror_mode": {
    "name": "ipython",
    "version": 3
   },
   "file_extension": ".py",
   "mimetype": "text/x-python",
   "name": "python",
   "nbconvert_exporter": "python",
   "pygments_lexer": "ipython3",
   "version": "3.6.5"
  }
 },
 "nbformat": 4,
 "nbformat_minor": 2
}
